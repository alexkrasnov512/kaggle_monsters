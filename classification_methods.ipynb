{
 "cells": [
  {
   "cell_type": "markdown",
   "id": "9ce75f3c",
   "metadata": {},
   "source": [
    "### Загрузим датасет с Kaggle для предсказания целевой переменной с применением различных методов классификации"
   ]
  },
  {
   "cell_type": "code",
   "execution_count": 1,
   "id": "9e7ec2b9",
   "metadata": {},
   "outputs": [],
   "source": [
    "import pandas as pd\n",
    "from sklearn.neighbors import KNeighborsClassifier\n",
    "from sklearn.svm import SVC\n",
    "from sklearn.naive_bayes import GaussianNB\n",
    "from sklearn.tree import DecisionTreeClassifier\n",
    "from sklearn.model_selection import GridSearchCV\n",
    "from sklearn.linear_model import LogisticRegression"
   ]
  },
  {
   "cell_type": "code",
   "execution_count": 2,
   "id": "a1c75b59",
   "metadata": {},
   "outputs": [],
   "source": [
    "# Данные по соревнованию от Kaggle, состоящие из обучающего и тестового набора\n",
    "train = pd.read_csv('datasets/train.csv', index_col='id')\n",
    "test = pd.read_csv('datasets/test.csv', index_col='id')"
   ]
  },
  {
   "cell_type": "markdown",
   "id": "893b0e98",
   "metadata": {},
   "source": [
    "### Предобработка данных при помощи one-hot кодирования"
   ]
  },
  {
   "cell_type": "code",
   "execution_count": 3,
   "id": "29615d12",
   "metadata": {},
   "outputs": [],
   "source": [
    "# One-hot кодирование стобца color\n",
    "object_train = train.select_dtypes(include='object')['color']\n",
    "object_test = test.select_dtypes(include='object')['color']\n",
    "num_train = train.select_dtypes(exclude='object')\n",
    "num_test = test.select_dtypes(exclude = 'object')\n",
    "one_hot_train = pd.get_dummies(object_train, dtype='float')\n",
    "one_hot_test = pd.get_dummies(object_test, dtype='float')"
   ]
  },
  {
   "cell_type": "code",
   "execution_count": 4,
   "id": "b63052b5",
   "metadata": {},
   "outputs": [],
   "source": [
    "# Объединение закодированных признаков\n",
    "X_train = num_train.join(one_hot_train)\n",
    "X_test = num_test.join(one_hot_test)\n",
    "# Целевой признак\n",
    "y_train = train['type']"
   ]
  },
  {
   "cell_type": "markdown",
   "id": "7d3996b4",
   "metadata": {},
   "source": [
    "### Теперь применим различные методы классификации для предсказания целевой переменной"
   ]
  },
  {
   "cell_type": "markdown",
   "id": "155d3025",
   "metadata": {},
   "source": [
    "#### 1) Метод k-ближайших соседей"
   ]
  },
  {
   "cell_type": "code",
   "execution_count": 5,
   "id": "6728f4a1",
   "metadata": {},
   "outputs": [],
   "source": [
    "params_for_knn = {'n_neighbors': range(1, 51, 2), 'algorithm': ['auto', 'ball_tree', 'kd_tree']}\n",
    "KNN_model = KNeighborsClassifier()\n",
    "gKNN_model = GridSearchCV(KNN_model, params_for_knn, cv=5)\n",
    "gKNN_model.fit(X_train, y_train)\n",
    "KNN_prediction = gKNN_model.predict(X_test) "
   ]
  },
  {
   "cell_type": "code",
   "execution_count": 6,
   "id": "3b15859b",
   "metadata": {},
   "outputs": [],
   "source": [
    "# Перевод предсказанных значений в серию pandas и сохранение в csv-файл\n",
    "predict_knn = pd.Series(KNN_prediction, index=test.index).to_frame(name='type').reset_index()\n",
    "predict_knn.to_csv(r'predicted/predict_monsters_knn.csv', index=False)"
   ]
  },
  {
   "cell_type": "code",
   "execution_count": 7,
   "id": "76d5d1e5",
   "metadata": {},
   "outputs": [
    {
     "data": {
      "text/plain": [
       "{'algorithm': 'auto', 'n_neighbors': 7}"
      ]
     },
     "execution_count": 7,
     "metadata": {},
     "output_type": "execute_result"
    }
   ],
   "source": [
    "# Лучшие параметры для модели\n",
    "gKNN_model.best_params_"
   ]
  },
  {
   "cell_type": "markdown",
   "id": "20952469",
   "metadata": {},
   "source": [
    "#### 2) Метод опорных векторов"
   ]
  },
  {
   "cell_type": "code",
   "execution_count": 8,
   "id": "00cd88f5",
   "metadata": {},
   "outputs": [],
   "source": [
    "params_for_SVC = {'kernel': ['linear', 'poly', 'rbf', 'sigmoid'],\n",
    "                 'C': [0.2, 0.4, 0.6, 0.8, 1]}\n",
    "SVC_model = SVC()\n",
    "gSVC_model = GridSearchCV(SVC_model, params_for_SVC, cv=5)\n",
    "gSVC_model.fit(X_train, y_train)\n",
    "SVC_prediction = gSVC_model.predict(X_test)"
   ]
  },
  {
   "cell_type": "code",
   "execution_count": 9,
   "id": "8b91d3f2",
   "metadata": {},
   "outputs": [],
   "source": [
    "# Перевод предсказанных значений в серию pandas и сохранение в csv-файл\n",
    "predict_svc = pd.Series(SVC_prediction, index=test.index).to_frame(name='type').reset_index()\n",
    "predict_svc.to_csv(r'predicted/predict_monsters_svc.csv', index=False)"
   ]
  },
  {
   "cell_type": "code",
   "execution_count": 10,
   "id": "85fc7181",
   "metadata": {},
   "outputs": [
    {
     "data": {
      "text/plain": [
       "{'C': 1, 'kernel': 'poly'}"
      ]
     },
     "execution_count": 10,
     "metadata": {},
     "output_type": "execute_result"
    }
   ],
   "source": [
    "# Лучшие параметры для модели\n",
    "gSVC_model.best_params_"
   ]
  },
  {
   "cell_type": "markdown",
   "id": "b2bdc1a7",
   "metadata": {},
   "source": [
    "#### 3) Дерево решений"
   ]
  },
  {
   "cell_type": "code",
   "execution_count": 11,
   "id": "1b69b764",
   "metadata": {},
   "outputs": [],
   "source": [
    "params_for_trees = {'max_depth': range(1, 22, 2),\n",
    "                    'criterion': ['entropy'],\n",
    "                    }\n",
    "trees_model = DecisionTreeClassifier()\n",
    "gtrees_model = GridSearchCV(trees_model, params_for_trees, cv=5)\n",
    "gtrees_model.fit(X_train, y_train)\n",
    "trees_prediction = gtrees_model.predict(X_test) "
   ]
  },
  {
   "cell_type": "code",
   "execution_count": 12,
   "id": "d4bf0394",
   "metadata": {},
   "outputs": [],
   "source": [
    "# Перевод предсказанных значений в серию pandas и сохранение в csv-файл\n",
    "predict_tree = pd.Series(trees_prediction, index=test.index).to_frame(name='type').reset_index()\n",
    "predict_tree.to_csv(r'predicted/predict_monsters_tree.csv', index=False)"
   ]
  },
  {
   "cell_type": "code",
   "execution_count": 13,
   "id": "e52dc75c",
   "metadata": {},
   "outputs": [
    {
     "data": {
      "text/plain": [
       "{'criterion': 'entropy', 'max_depth': 19}"
      ]
     },
     "execution_count": 13,
     "metadata": {},
     "output_type": "execute_result"
    }
   ],
   "source": [
    "# Лучшие параметры для модели\n",
    "gtrees_model.best_params_"
   ]
  },
  {
   "cell_type": "markdown",
   "id": "40eed889",
   "metadata": {},
   "source": [
    "#### 4) Гауссовский наивный Байес"
   ]
  },
  {
   "cell_type": "code",
   "execution_count": 14,
   "id": "cb127ead",
   "metadata": {},
   "outputs": [],
   "source": [
    "gns = GaussianNB()\n",
    "gns.fit(X_train, y_train)\n",
    "gns_prediction = gns.predict(X_test) "
   ]
  },
  {
   "cell_type": "code",
   "execution_count": 15,
   "id": "eea9bfec",
   "metadata": {},
   "outputs": [],
   "source": [
    "# Перевод предсказанных значений в серию pandas и сохранение в csv-файл\n",
    "predict_gns = pd.Series(gns_prediction, index=test.index).to_frame(name='type').reset_index()\n",
    "predict_gns.to_csv(r'predicted/predict_monsters_gns.csv', index=False)"
   ]
  },
  {
   "cell_type": "markdown",
   "id": "360ae12c",
   "metadata": {},
   "source": [
    "#### 5) Логистическая регрессия"
   ]
  },
  {
   "cell_type": "code",
   "execution_count": 16,
   "id": "81bffaad",
   "metadata": {},
   "outputs": [],
   "source": [
    "log = LogisticRegression(C=0.4)\n",
    "log.fit(X_train, y_train)\n",
    "log_prediction = log.predict(X_test) "
   ]
  },
  {
   "cell_type": "code",
   "execution_count": 17,
   "id": "42ef712f",
   "metadata": {},
   "outputs": [],
   "source": [
    "# Перевод предсказанных значений в серию pandas и сохранение в csv-файл\n",
    "predict_log = pd.Series(log_prediction, index=test.index).to_frame(name='type').reset_index()\n",
    "predict_log.to_csv(r'predicted/predict_monsters_log.csv', index=False)"
   ]
  },
  {
   "cell_type": "code",
   "execution_count": null,
   "id": "44539506",
   "metadata": {},
   "outputs": [],
   "source": []
  }
 ],
 "metadata": {
  "kernelspec": {
   "display_name": "Python 3 (ipykernel)",
   "language": "python",
   "name": "python3"
  },
  "language_info": {
   "codemirror_mode": {
    "name": "ipython",
    "version": 3
   },
   "file_extension": ".py",
   "mimetype": "text/x-python",
   "name": "python",
   "nbconvert_exporter": "python",
   "pygments_lexer": "ipython3",
   "version": "3.11.4"
  }
 },
 "nbformat": 4,
 "nbformat_minor": 5
}
