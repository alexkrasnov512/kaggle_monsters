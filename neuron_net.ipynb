{
 "cells": [
  {
   "cell_type": "code",
   "execution_count": 1,
   "id": "2e1eb03c",
   "metadata": {},
   "outputs": [],
   "source": [
    "import torch\n",
    "import pandas as pd\n",
    "import numpy as np\n",
    "from sklearn.preprocessing import LabelEncoder"
   ]
  },
  {
   "cell_type": "code",
   "execution_count": 2,
   "id": "1650ba7c",
   "metadata": {},
   "outputs": [],
   "source": [
    "# Данные по соревнованию от Kaggle, состоящие из обучающего и тестового набора\n",
    "train = pd.read_csv('datasets/train.csv', index_col='id')\n",
    "test = pd.read_csv('datasets/test.csv', index_col='id')"
   ]
  },
  {
   "cell_type": "code",
   "execution_count": 3,
   "id": "aa757bef",
   "metadata": {},
   "outputs": [],
   "source": [
    "# One-hot кодирование стобца color\n",
    "object_train = train.select_dtypes(include='object')['color']\n",
    "object_test = test.select_dtypes(include='object')['color']\n",
    "num_train = train.select_dtypes(exclude='object')\n",
    "num_test = test.select_dtypes(exclude = 'object')\n",
    "one_hot_train = pd.get_dummies(object_train, dtype='float')\n",
    "one_hot_test = pd.get_dummies(object_test, dtype='float')"
   ]
  },
  {
   "cell_type": "code",
   "execution_count": 4,
   "id": "95e9569e",
   "metadata": {},
   "outputs": [],
   "source": [
    "# Объединение закодированных признаков\n",
    "X_train = num_train.join(one_hot_train)\n",
    "X_test = num_test.join(one_hot_test)\n",
    "# Целевой признак\n",
    "y_train = train['type']"
   ]
  },
  {
   "cell_type": "code",
   "execution_count": 5,
   "id": "fc66da33",
   "metadata": {},
   "outputs": [],
   "source": [
    "# Кодирование целевого признака\n",
    "y_train_categorical = train.select_dtypes(include='object')['type']\n",
    "label_encoder_train = LabelEncoder().fit(y_train_categorical)\n",
    "label_encoded_y = label_encoder_train.transform(y_train_categorical)\n",
    "y_train = pd.Series(label_encoded_y, index=train.index, name='type')"
   ]
  },
  {
   "cell_type": "code",
   "execution_count": 6,
   "id": "e62d424c",
   "metadata": {},
   "outputs": [],
   "source": [
    "# Перевод в Тензоры для нейросети\n",
    "X_train = torch.FloatTensor(X_train.to_numpy())\n",
    "X_test = torch.FloatTensor(X_test.to_numpy())\n",
    "y_train = torch.LongTensor(y_train.to_numpy())"
   ]
  },
  {
   "cell_type": "code",
   "execution_count": 7,
   "id": "c9e56e96",
   "metadata": {},
   "outputs": [
    {
     "data": {
      "text/plain": [
       "torch.Size([371, 10])"
      ]
     },
     "execution_count": 7,
     "metadata": {},
     "output_type": "execute_result"
    }
   ],
   "source": [
    "X_train.shape"
   ]
  },
  {
   "cell_type": "code",
   "execution_count": 8,
   "id": "09551c76",
   "metadata": {},
   "outputs": [],
   "source": [
    "class MonsterNet(torch.nn.Module):\n",
    "    def __init__(self,n_input, n_hidden_neurons):\n",
    "        super(MonsterNet, self).__init__()\n",
    "        self.fc1 = torch.nn.Linear(n_input, n_hidden_neurons)\n",
    "        self.activ1 = torch.nn.Sigmoid()\n",
    "        self.fc2 = torch.nn.Linear(n_hidden_neurons, 3)\n",
    "        self.sm = torch.nn.Softmax(dim=1)\n",
    "        \n",
    "    def forward(self, x):\n",
    "        x = self.fc1(x)\n",
    "        x = self.activ1(x)\n",
    "        x = self.fc2(x)\n",
    "        return x\n",
    "\n",
    "    def inference(self, x):                       # Считает вероятности \n",
    "        x = self.forward(x)\n",
    "        x = self.sm(x)\n",
    "        return x\n",
    "    \n",
    "n_input =  10                                    # Количество входящих нейронов == количеству признаков\n",
    "n_hidden =  10\n",
    "monster_net = MonsterNet(n_input, n_hidden)"
   ]
  },
  {
   "cell_type": "code",
   "execution_count": 9,
   "id": "e7cdb7ea",
   "metadata": {},
   "outputs": [],
   "source": [
    "loss = torch.nn.CrossEntropyLoss()\n",
    "optimizer = torch.optim.Adam(monster_net.parameters(), lr=1.0e-3)"
   ]
  },
  {
   "cell_type": "code",
   "execution_count": 10,
   "id": "6474126c",
   "metadata": {},
   "outputs": [],
   "source": [
    "batch_size = 16         # разделяет тренировочный датасет на батчи, последовательно обучаясь по ним, служит для препятвования запоминанию сети данных \n",
    "\n",
    "for epoch in range(2000):\n",
    "    order = np.random.permutation(len(X_train))\n",
    "    for start_index in range(0, len(X_train), batch_size):\n",
    "        optimizer.zero_grad()\n",
    "        \n",
    "        batch_indexes = order[start_index:start_index+batch_size]\n",
    "        \n",
    "        x_batch = X_train[batch_indexes]\n",
    "        y_batch = y_train[batch_indexes]\n",
    "        \n",
    "        preds = monster_net.forward(x_batch) \n",
    "        \n",
    "        loss_value = loss(preds, y_batch)\n",
    "        loss_value.backward()\n",
    "        \n",
    "        optimizer.step()\n",
    "        "
   ]
  },
  {
   "cell_type": "code",
   "execution_count": 11,
   "id": "48e66dd4",
   "metadata": {},
   "outputs": [],
   "source": [
    "predict_monsters = monster_net.inference(X_test) # Предсказание вероятностей"
   ]
  },
  {
   "cell_type": "code",
   "execution_count": 12,
   "id": "2d2e1e20",
   "metadata": {},
   "outputs": [],
   "source": [
    "predict_net = pd.DataFrame(predict_monsters.detach().numpy(), index=test.index) # Переводим вероятности в Dataframe"
   ]
  },
  {
   "cell_type": "code",
   "execution_count": 13,
   "id": "18d0d2ac",
   "metadata": {},
   "outputs": [
    {
     "data": {
      "text/html": [
       "<div>\n",
       "<style scoped>\n",
       "    .dataframe tbody tr th:only-of-type {\n",
       "        vertical-align: middle;\n",
       "    }\n",
       "\n",
       "    .dataframe tbody tr th {\n",
       "        vertical-align: top;\n",
       "    }\n",
       "\n",
       "    .dataframe thead th {\n",
       "        text-align: right;\n",
       "    }\n",
       "</style>\n",
       "<table border=\"1\" class=\"dataframe\">\n",
       "  <thead>\n",
       "    <tr style=\"text-align: right;\">\n",
       "      <th></th>\n",
       "      <th>0</th>\n",
       "      <th>1</th>\n",
       "      <th>2</th>\n",
       "    </tr>\n",
       "    <tr>\n",
       "      <th>id</th>\n",
       "      <th></th>\n",
       "      <th></th>\n",
       "      <th></th>\n",
       "    </tr>\n",
       "  </thead>\n",
       "  <tbody>\n",
       "    <tr>\n",
       "      <th>3</th>\n",
       "      <td>0.000036</td>\n",
       "      <td>0.906082</td>\n",
       "      <td>0.093883</td>\n",
       "    </tr>\n",
       "    <tr>\n",
       "      <th>6</th>\n",
       "      <td>0.130025</td>\n",
       "      <td>0.349295</td>\n",
       "      <td>0.520680</td>\n",
       "    </tr>\n",
       "    <tr>\n",
       "      <th>9</th>\n",
       "      <td>0.001514</td>\n",
       "      <td>0.718692</td>\n",
       "      <td>0.279794</td>\n",
       "    </tr>\n",
       "    <tr>\n",
       "      <th>10</th>\n",
       "      <td>0.259773</td>\n",
       "      <td>0.288508</td>\n",
       "      <td>0.451719</td>\n",
       "    </tr>\n",
       "    <tr>\n",
       "      <th>13</th>\n",
       "      <td>0.980591</td>\n",
       "      <td>0.000491</td>\n",
       "      <td>0.018918</td>\n",
       "    </tr>\n",
       "    <tr>\n",
       "      <th>...</th>\n",
       "      <td>...</td>\n",
       "      <td>...</td>\n",
       "      <td>...</td>\n",
       "    </tr>\n",
       "    <tr>\n",
       "      <th>893</th>\n",
       "      <td>0.003819</td>\n",
       "      <td>0.192505</td>\n",
       "      <td>0.803677</td>\n",
       "    </tr>\n",
       "    <tr>\n",
       "      <th>894</th>\n",
       "      <td>0.996694</td>\n",
       "      <td>0.000022</td>\n",
       "      <td>0.003284</td>\n",
       "    </tr>\n",
       "    <tr>\n",
       "      <th>895</th>\n",
       "      <td>0.000038</td>\n",
       "      <td>0.914268</td>\n",
       "      <td>0.085695</td>\n",
       "    </tr>\n",
       "    <tr>\n",
       "      <th>898</th>\n",
       "      <td>0.999279</td>\n",
       "      <td>0.000005</td>\n",
       "      <td>0.000716</td>\n",
       "    </tr>\n",
       "    <tr>\n",
       "      <th>899</th>\n",
       "      <td>0.988427</td>\n",
       "      <td>0.000387</td>\n",
       "      <td>0.011186</td>\n",
       "    </tr>\n",
       "  </tbody>\n",
       "</table>\n",
       "<p>529 rows × 3 columns</p>\n",
       "</div>"
      ],
      "text/plain": [
       "            0         1         2\n",
       "id                               \n",
       "3    0.000036  0.906082  0.093883\n",
       "6    0.130025  0.349295  0.520680\n",
       "9    0.001514  0.718692  0.279794\n",
       "10   0.259773  0.288508  0.451719\n",
       "13   0.980591  0.000491  0.018918\n",
       "..        ...       ...       ...\n",
       "893  0.003819  0.192505  0.803677\n",
       "894  0.996694  0.000022  0.003284\n",
       "895  0.000038  0.914268  0.085695\n",
       "898  0.999279  0.000005  0.000716\n",
       "899  0.988427  0.000387  0.011186\n",
       "\n",
       "[529 rows x 3 columns]"
      ]
     },
     "execution_count": 13,
     "metadata": {},
     "output_type": "execute_result"
    }
   ],
   "source": [
    "predict_net"
   ]
  },
  {
   "cell_type": "code",
   "execution_count": 14,
   "id": "d69f08f1",
   "metadata": {},
   "outputs": [],
   "source": [
    "predict_net = pd.Series(predict_net.idxmax(axis=1), name='type') # Определяет по наибольшей вероятности результат предсказания нейронной сети\n"
   ]
  },
  {
   "cell_type": "code",
   "execution_count": 15,
   "id": "c601de67",
   "metadata": {},
   "outputs": [
    {
     "data": {
      "text/plain": [
       "id\n",
       "3      1\n",
       "6      2\n",
       "9      1\n",
       "10     2\n",
       "13     0\n",
       "      ..\n",
       "893    2\n",
       "894    0\n",
       "895    1\n",
       "898    0\n",
       "899    0\n",
       "Name: type, Length: 529, dtype: int64"
      ]
     },
     "execution_count": 15,
     "metadata": {},
     "output_type": "execute_result"
    }
   ],
   "source": [
    "predict_net"
   ]
  },
  {
   "cell_type": "code",
   "execution_count": 16,
   "id": "dafd1299",
   "metadata": {},
   "outputs": [],
   "source": [
    "# Преобразование результатов обратно в категориальный признак\n",
    "monst = {0: 'Ghost', 1: 'Ghoul', 2: 'Goblin'}\n",
    "predict_net = predict_net.map(monst)"
   ]
  },
  {
   "cell_type": "code",
   "execution_count": 17,
   "id": "23f73ddb",
   "metadata": {},
   "outputs": [],
   "source": [
    "# Перевод в csv файл\n",
    "predict_net.reset_index().to_csv(r'predicted/predict_monsters_neuron.csv', index=False)"
   ]
  }
 ],
 "metadata": {
  "kernelspec": {
   "display_name": "Python 3 (ipykernel)",
   "language": "python",
   "name": "python3"
  },
  "language_info": {
   "codemirror_mode": {
    "name": "ipython",
    "version": 3
   },
   "file_extension": ".py",
   "mimetype": "text/x-python",
   "name": "python",
   "nbconvert_exporter": "python",
   "pygments_lexer": "ipython3",
   "version": "3.11.4"
  }
 },
 "nbformat": 4,
 "nbformat_minor": 5
}
