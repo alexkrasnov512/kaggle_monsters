{
 "cells": [
  {
   "cell_type": "code",
   "execution_count": 1,
   "id": "cac31070",
   "metadata": {
    "scrolled": true
   },
   "outputs": [],
   "source": [
    "# Импорт бибилотек\n",
    "import pandas as pd\n",
    "from xgboost import XGBClassifier\n",
    "from sklearn.preprocessing import LabelEncoder\n",
    "from sklearn.model_selection import GridSearchCV"
   ]
  },
  {
   "cell_type": "code",
   "execution_count": 2,
   "id": "faefa2ab",
   "metadata": {},
   "outputs": [],
   "source": [
    "# Данные по соревнованию от Kaggle, состоящие из обучающего и тестового набора\n",
    "train = pd.read_csv('datasets/train.csv', index_col='id')\n",
    "test = pd.read_csv('datasets/test.csv', index_col='id')"
   ]
  },
  {
   "cell_type": "code",
   "execution_count": 3,
   "id": "b4081411",
   "metadata": {},
   "outputs": [],
   "source": [
    "# One-hot кодирование стобца color\n",
    "object_train = train.select_dtypes(include='object')['color']\n",
    "object_test = test.select_dtypes(include='object')['color']\n",
    "num_train = train.select_dtypes(exclude='object')\n",
    "num_test = test.select_dtypes(exclude = 'object')\n",
    "one_hot_train = pd.get_dummies(object_train, dtype='int')\n",
    "one_hot_test = pd.get_dummies(object_test, dtype='int')"
   ]
  },
  {
   "cell_type": "code",
   "execution_count": 4,
   "id": "eed24f9a",
   "metadata": {},
   "outputs": [],
   "source": [
    "# Объединение закодированных признаков\n",
    "X_train = num_train.join(one_hot_train)\n",
    "X_test = num_test.join(one_hot_test)"
   ]
  },
  {
   "cell_type": "code",
   "execution_count": 5,
   "id": "b7e62691",
   "metadata": {},
   "outputs": [],
   "source": [
    "# Кодирование целевого признака для xgboost\n",
    "y_train_categorical = train.select_dtypes(include='object')['type']\n",
    "label_encoder_train = LabelEncoder().fit(y_train_categorical)\n",
    "label_encoded_y = label_encoder_train.transform(y_train_categorical)\n",
    "y_train = pd.Series(label_encoded_y, index=train.index, name='type')"
   ]
  },
  {
   "cell_type": "code",
   "execution_count": 6,
   "id": "8d5cfb09",
   "metadata": {},
   "outputs": [],
   "source": [
    "# Обучение градиентому бустингу\n",
    "params = {'n_estimators': [10, 50, 100],\n",
    "         'max_depth': [2, 4, 6, 8, 10],\n",
    "         'learning_rate': [0.3, 0.5, 1.0]}\n",
    "bst = XGBClassifier(objective='binary:logistic')\n",
    "bst_grd = GridSearchCV(bst, param_grid=params, cv=5)\n",
    "bst_grd.fit(X_train, y_train)\n",
    "preds = pd.DataFrame(bst_grd.predict(X_test), index=test.index).rename(columns={0:'num_types'})"
   ]
  },
  {
   "cell_type": "code",
   "execution_count": 7,
   "id": "cb8f0c99",
   "metadata": {},
   "outputs": [
    {
     "data": {
      "text/plain": [
       "id\n",
       "0      1\n",
       "1      2\n",
       "2      1\n",
       "4      1\n",
       "5      0\n",
       "      ..\n",
       "886    2\n",
       "889    0\n",
       "890    1\n",
       "896    0\n",
       "897    1\n",
       "Name: type, Length: 371, dtype: int32"
      ]
     },
     "execution_count": 7,
     "metadata": {},
     "output_type": "execute_result"
    }
   ],
   "source": [
    "y_train"
   ]
  },
  {
   "cell_type": "code",
   "execution_count": 8,
   "id": "d9d37c16",
   "metadata": {},
   "outputs": [],
   "source": [
    "# Преобразование результатов обратно в категориальный признак\n",
    "monsters = {0: 'Ghost', 1: 'Ghoul', 2: 'Goblin'}\n",
    "preds['type'] = preds['num_types'].map(monsters)\n",
    "preds = preds.drop(columns='num_types')"
   ]
  },
  {
   "cell_type": "code",
   "execution_count": 9,
   "id": "db1abc48",
   "metadata": {},
   "outputs": [],
   "source": [
    "# Перевод в csv файл\n",
    "preds.reset_index().to_csv(r'predicted/predict_monsters_xgb.csv', index=False)"
   ]
  },
  {
   "cell_type": "code",
   "execution_count": 10,
   "id": "4f0c32ac",
   "metadata": {},
   "outputs": [
    {
     "data": {
      "text/plain": [
       "{'learning_rate': 0.5, 'max_depth': 6, 'n_estimators': 10}"
      ]
     },
     "execution_count": 10,
     "metadata": {},
     "output_type": "execute_result"
    }
   ],
   "source": [
    "# Лучшие параметры\n",
    "bst_grd.best_params_"
   ]
  }
 ],
 "metadata": {
  "kernelspec": {
   "display_name": "Python 3 (ipykernel)",
   "language": "python",
   "name": "python3"
  },
  "language_info": {
   "codemirror_mode": {
    "name": "ipython",
    "version": 3
   },
   "file_extension": ".py",
   "mimetype": "text/x-python",
   "name": "python",
   "nbconvert_exporter": "python",
   "pygments_lexer": "ipython3",
   "version": "3.11.4"
  }
 },
 "nbformat": 4,
 "nbformat_minor": 5
}
