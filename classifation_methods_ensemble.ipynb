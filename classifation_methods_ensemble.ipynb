{
 "cells": [
  {
   "cell_type": "code",
   "execution_count": 1,
   "id": "187bc88a",
   "metadata": {},
   "outputs": [],
   "source": [
    "import pandas as pd\n",
    "from sklearn.ensemble import StackingClassifier, BaggingClassifier, RandomForestClassifier, AdaBoostClassifier, GradientBoostingClassifier\n",
    "from sklearn.linear_model import LogisticRegression\n",
    "from sklearn.naive_bayes import GaussianNB\n",
    "from sklearn.neighbors import KNeighborsClassifier\n",
    "from sklearn.svm import SVC\n",
    "from sklearn.model_selection import GridSearchCV, RandomizedSearchCV"
   ]
  },
  {
   "cell_type": "code",
   "execution_count": 2,
   "id": "0bb9584b",
   "metadata": {},
   "outputs": [],
   "source": [
    "# Данные по соревнованию от Kaggle, состоящие из обучающего и тестового набора\n",
    "train = pd.read_csv('datasets/train.csv', index_col='id')\n",
    "test = pd.read_csv('datasets/test.csv', index_col='id')"
   ]
  },
  {
   "cell_type": "markdown",
   "id": "8f66ca8d",
   "metadata": {},
   "source": [
    "### Предобработка данных при помощи one-hot кодирования"
   ]
  },
  {
   "cell_type": "code",
   "execution_count": 3,
   "id": "2951e99e",
   "metadata": {},
   "outputs": [],
   "source": [
    "# One-hot кодирование стобца color\n",
    "object_train = train.select_dtypes(include='object')['color']\n",
    "object_test = test.select_dtypes(include='object')['color']\n",
    "num_train = train.select_dtypes(exclude='object')\n",
    "num_test = test.select_dtypes(exclude = 'object')\n",
    "one_hot_train = pd.get_dummies(object_train, dtype='float')\n",
    "one_hot_test = pd.get_dummies(object_test, dtype='float')"
   ]
  },
  {
   "cell_type": "code",
   "execution_count": 4,
   "id": "c6e300a7",
   "metadata": {},
   "outputs": [],
   "source": [
    "# Объединение закодированных признаков\n",
    "X_train = num_train.join(one_hot_train)\n",
    "X_test = num_test.join(one_hot_test)\n",
    "# Целевой признак\n",
    "y_train = train['type']"
   ]
  },
  {
   "cell_type": "markdown",
   "id": "87a47d5c",
   "metadata": {},
   "source": [
    "### Применим различные ансамблевые методы классификации"
   ]
  },
  {
   "cell_type": "code",
   "execution_count": 5,
   "id": "943c27c1",
   "metadata": {},
   "outputs": [],
   "source": [
    "# Стекинг\n",
    "estimators = [('SVC', SVC(kernel='linear', C=0.4)),\n",
    "              ('Gns', GaussianNB()),\n",
    "              ('kNN', KNeighborsClassifier(n_neighbors=17, algorithm='auto'))]\n",
    "final_estimator = LogisticRegression(C=0.4)\n",
    "stack = StackingClassifier(estimators=estimators, final_estimator=final_estimator)\n",
    "stack.fit(X_train, y_train)\n",
    "stack_prediction = stack.predict(X_test)"
   ]
  },
  {
   "cell_type": "code",
   "execution_count": 6,
   "id": "5ec4a19a",
   "metadata": {},
   "outputs": [],
   "source": [
    "# Перевод предсказанных значений в серию pandas и сохранение в csv-файл\n",
    "predict_stack = pd.Series(stack_prediction, index=test.index).to_frame(name='type').reset_index()\n",
    "predict_stack.to_csv(r'predicted/predict_monsters_stack.csv', index=False)"
   ]
  },
  {
   "cell_type": "code",
   "execution_count": 7,
   "id": "7f6d9dde",
   "metadata": {},
   "outputs": [],
   "source": [
    "# Беггинг\n",
    "bagging = BaggingClassifier()\n",
    "params = {'n_estimators': range(10, 50, 10),\n",
    "          'estimator': [SVC(kernel='linear', C=0.4), LogisticRegression(), GaussianNB()],\n",
    "          }\n",
    "grid_bagging = GridSearchCV(bagging, params, cv=5)\n",
    "grid_bagging.fit(X_train, y_train)\n",
    "bagging_prediction = grid_bagging.predict(X_test)"
   ]
  },
  {
   "cell_type": "code",
   "execution_count": 8,
   "id": "b5e79f6a",
   "metadata": {},
   "outputs": [
    {
     "data": {
      "text/plain": [
       "{'estimator': LogisticRegression(), 'n_estimators': 30}"
      ]
     },
     "execution_count": 8,
     "metadata": {},
     "output_type": "execute_result"
    }
   ],
   "source": [
    "grid_bagging.best_params_"
   ]
  },
  {
   "cell_type": "code",
   "execution_count": 9,
   "id": "f75e313a",
   "metadata": {},
   "outputs": [],
   "source": [
    "# Перевод предсказанных значений в серию pandas и сохранение в csv-файл\n",
    "predict_bagging = pd.Series(bagging_prediction, index=test.index).to_frame(name='type').reset_index()\n",
    "predict_bagging.to_csv(r'predicted/predict_monsters_bagging.csv', index=False)"
   ]
  },
  {
   "cell_type": "code",
   "execution_count": 10,
   "id": "af043d42",
   "metadata": {},
   "outputs": [],
   "source": [
    "# Лес деревьев (RandomForestClassifier)\n",
    "parametrs = {'n_estimators': range(1, 202, 50),\n",
    "             'criterion': ['entropy'],\n",
    "             'max_depth': range(5, 12, 2),\n",
    "             'min_samples_split': range(2, 7, 2),\n",
    "             'max_features': [5]}\n",
    "\n",
    "random_forest = RandomForestClassifier()\n",
    "random_bagging = RandomizedSearchCV(random_forest, parametrs, cv=5)\n",
    "random_bagging.fit(X_train, y_train)\n",
    "random_prediction = random_bagging.predict(X_test)"
   ]
  },
  {
   "cell_type": "code",
   "execution_count": 11,
   "id": "f2dda548",
   "metadata": {},
   "outputs": [],
   "source": [
    "# Перевод предсказанных значений в серию pandas и сохранение в csv-файл\n",
    "predict_forest = pd.Series(random_prediction, index=test.index).to_frame(name='type').reset_index()\n",
    "predict_forest.to_csv(r'predicted/predict_monsters_forest.csv', index=False)"
   ]
  },
  {
   "cell_type": "code",
   "execution_count": 12,
   "id": "b463bf38",
   "metadata": {},
   "outputs": [],
   "source": [
    "# Бустинг AdaBoost\n",
    "ada_boost_params = {'n_estimators': range(100, 501, 100)}\n",
    "ada_boost = AdaBoostClassifier(estimator=LogisticRegression())\n",
    "ada_boost_grid = GridSearchCV(ada_boost, ada_boost_params, cv=5)\n",
    "ada_boost_grid.fit(X_train, y_train)\n",
    "ada_boost_prediction = ada_boost_grid.predict(X_test)"
   ]
  },
  {
   "cell_type": "code",
   "execution_count": 13,
   "id": "cf207212",
   "metadata": {},
   "outputs": [
    {
     "data": {
      "text/plain": [
       "{'n_estimators': 400}"
      ]
     },
     "execution_count": 13,
     "metadata": {},
     "output_type": "execute_result"
    }
   ],
   "source": [
    "ada_boost_grid.best_params_"
   ]
  },
  {
   "cell_type": "code",
   "execution_count": 14,
   "id": "6fde881a",
   "metadata": {},
   "outputs": [],
   "source": [
    "# Перевод предсказанных значений в серию pandas и сохранение в csv-файл\n",
    "predict_ada_boost = pd.Series(ada_boost_prediction, index=test.index).to_frame(name='type').reset_index()\n",
    "predict_ada_boost.to_csv(r'predicted/predict_monsters_ada_boost.csv', index=False)"
   ]
  },
  {
   "cell_type": "code",
   "execution_count": 15,
   "id": "68c8fcf5",
   "metadata": {},
   "outputs": [],
   "source": [
    "# Бустинг GradientBoosting\n",
    "gradient_boost_params = {'n_estimators': [100, 300],\n",
    "                         'max_depth': [1, 3, 5],\n",
    "                         'learning_rate': [0.1, 0.5]\n",
    "                         }\n",
    "gradient_boost = GradientBoostingClassifier()\n",
    "gradient_boost_grid = GridSearchCV(gradient_boost, gradient_boost_params, cv=5)\n",
    "gradient_boost_grid.fit(X_train, y_train)\n",
    "gradient_boost_prediction = gradient_boost_grid.predict(X_test)"
   ]
  },
  {
   "cell_type": "code",
   "execution_count": 16,
   "id": "670d395f",
   "metadata": {},
   "outputs": [
    {
     "data": {
      "text/plain": [
       "{'learning_rate': 0.1, 'max_depth': 3, 'n_estimators': 100}"
      ]
     },
     "execution_count": 16,
     "metadata": {},
     "output_type": "execute_result"
    }
   ],
   "source": [
    "gradient_boost_grid.best_params_"
   ]
  },
  {
   "cell_type": "code",
   "execution_count": 17,
   "id": "057f24c4",
   "metadata": {},
   "outputs": [],
   "source": [
    "# Перевод предсказанных значений в серию pandas и сохранение в csv-файл\n",
    "predict_grad_boost = pd.Series(random_prediction, index=test.index).to_frame(name='type').reset_index()\n",
    "predict_grad_boost.to_csv(r'predicted/predict_monsters_grad_boost.csv', index=False)"
   ]
  }
 ],
 "metadata": {
  "kernelspec": {
   "display_name": "Python 3 (ipykernel)",
   "language": "python",
   "name": "python3"
  },
  "language_info": {
   "codemirror_mode": {
    "name": "ipython",
    "version": 3
   },
   "file_extension": ".py",
   "mimetype": "text/x-python",
   "name": "python",
   "nbconvert_exporter": "python",
   "pygments_lexer": "ipython3",
   "version": "3.11.4"
  }
 },
 "nbformat": 4,
 "nbformat_minor": 5
}
